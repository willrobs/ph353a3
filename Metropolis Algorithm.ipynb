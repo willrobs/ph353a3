{
 "cells": [
  {
   "cell_type": "code",
   "execution_count": 1,
   "metadata": {
    "collapsed": false
   },
   "outputs": [],
   "source": [
    "import numpy as np\n",
    "import matplotlib.pyplot as plt"
   ]
  },
  {
   "cell_type": "code",
   "execution_count": 115,
   "metadata": {
    "collapsed": false
   },
   "outputs": [],
   "source": [
    "mu=1.41\n",
    "m=0.5\n",
    "a=0.1\n",
    "\n",
    "niter=int(100/a)\n",
    "step=1\n",
    "points=100 ####Number of lattice points\n",
    "\n",
    "c1=m/a\n",
    "c2=(a*(mu**2))/2\n",
    "\n",
    "\n",
    "\n",
    "def daction(x1,x,xm1,xp):\n",
    "    dxn=xp-x\n",
    "    sxn=xp+x\n",
    "    sx1=x1+xm1\n",
    "    \n",
    "    delta_s=dxn*(sxn*(c1 + c2) -sx1*c1)\n",
    "    \n",
    "    return delta_s\n",
    "\n",
    "def thermalization():\n",
    "    tniter=int(100/a) ####Number of iterations for thermalization\n",
    "    num_accept=0\n",
    "    state=3*np.random.random_sample((points,))\n",
    "    avg_pos=0*np.random.random_sample((tniter+1,))\n",
    "    avg_pos2=0*np.random.random_sample((tniter+1,))\n",
    "\n",
    "    for h in state:\n",
    "            avg_pos[0]=avg_pos[0]+h\n",
    "            avg_pos2[0]=avg_pos2[0]+h**2\n",
    "\n",
    "    for m in range(tniter):\n",
    "\n",
    "        for n in range(points):\n",
    "\n",
    "            x_t=(np.random.uniform((state[n]-step), (state[n]+step)))\n",
    "            if n==0:\n",
    "                delta=daction(state[n+1],state[n],state[points-1],x_t)\n",
    "\n",
    "                if np.exp(-delta)> (np.random.uniform(0,1)):\n",
    "                    np.put(state,[n],[x_t])\n",
    "                    num_accept=num_accept+1\n",
    "                else:\n",
    "                    pass\n",
    "\n",
    "            elif n==(points-1):\n",
    "                delta=daction(state[0],state[n],state[n-1],x_t)\n",
    "\n",
    "                if np.exp(-delta)> (np.random.uniform(0,1)):\n",
    "                    np.put(state,[n],[x_t])\n",
    "                    num_accept=num_accept+1\n",
    "                else:\n",
    "                    pass\n",
    "            else:\n",
    "                delta=daction(state[n+1],state[n],state[n-1],x_t)\n",
    "\n",
    "                if  np.exp(-delta) > (np.random.uniform(0,1)):\n",
    "                    np.put(state,[n],[x_t])\n",
    "                    num_accept=num_accept+1\n",
    "                else:\n",
    "                    pass\n",
    "\n",
    "        for h in state:\n",
    "            avg_pos[m+1]=avg_pos[m+1]+h\n",
    "            avg_pos2[m+1]=avg_pos2[m+1]+h**2\n",
    "\n",
    "    avg_pos=avg_pos/points\n",
    "    avg_pos2=avg_pos2/points\n",
    "    print(\"Acceptance ratio :\", num_accept/(tniter*points), \"\\n The acceptance ratio needs to be around 0.5. \\n If it's too low try reducing 'step', and vv if it's too high. \")\n",
    "    \n",
    "    \n",
    "    config=np.arange(tniter+1)\n",
    "\n",
    "    plt.figure(1)\n",
    "    plt.xlabel('Configuration')\n",
    "    plt.ylabel('Average distance squared')\n",
    "    plt.title('Distance squared vs configuration number')\n",
    "    plt.plot(config, avg_pos2)\n",
    "    plt.show()\n",
    "    \n",
    "    plt.figure(2)\n",
    "    plt.xlabel('Configuration')\n",
    "    plt.ylabel('Average distance squared')\n",
    "    plt.title('Distance squared vs configuration number. Tuned axis')\n",
    "    plt.plot(config, avg_pos2)\n",
    "    plt.axis([0,400,0,max(avg_pos2)]) ####May need to tune x-axis\n",
    "    plt.show()\n",
    "    \n",
    "    \n",
    "def data(spring_const,mass,lattice_spacing):\n",
    "    mu=spring_const\n",
    "    m=mass\n",
    "    a=lattice_spacing\n",
    "    smu=str(mu)\n",
    "    sm=str(m)\n",
    "    sma=str(a)\n",
    "    name=smu+sm+sma\n",
    "    \n",
    "    state=0*np.random.random_sample((points,))\n",
    "    avg_pos=0*np.random.random_sample((niter+1,))\n",
    "    avg_pos2=0*np.random.random_sample((niter+1,))\n",
    "\n",
    "    f=open('data'+name+'.txt' , 'w')\n",
    "    f.close()\n",
    "    for m in range(niter):\n",
    "\n",
    "        for n in range(points):\n",
    "\n",
    "            x_t=(np.random.uniform((state[n]-step), (state[n]+step)))\n",
    "            if n==0:\n",
    "                delta=daction(state[n+1],state[n],state[points-1],x_t)\n",
    "\n",
    "                if np.exp(-delta)> (np.random.uniform(0,1)):\n",
    "                    np.put(state,[n],[x_t])\n",
    "                    num_accept=num_accept+1\n",
    "                else:\n",
    "                    pass\n",
    "\n",
    "            elif n==(points-1):\n",
    "                delta=daction(state[0],state[n],state[n-1],x_t)\n",
    "\n",
    "                if np.exp(-delta)> (np.random.uniform(0,1)):\n",
    "                    np.put(state,[n],[x_t])\n",
    "                    num_accept=num_accept+1\n",
    "                else:\n",
    "                    pass\n",
    "            else:\n",
    "                delta=daction(state[n+1],state[n],state[n-1],x_t)\n",
    "\n",
    "                if  np.exp(-delta) > (np.random.uniform(0,1)):\n",
    "                    np.put(state,[n],[x_t])\n",
    "                    num_accept=num_accept+1\n",
    "                else:\n",
    "                    pass    \n",
    "    \n",
    "\n",
    "\n"
   ]
  },
  {
   "cell_type": "code",
   "execution_count": 116,
   "metadata": {
    "collapsed": false
   },
   "outputs": [
    {
     "name": "stdout",
     "output_type": "stream",
     "text": [
      "Acceptance ratio : 0.47174 \n",
      " The acceptance ratio needs to be around 0.5. \n",
      " If it's too low try reducing 'step', and vv if it's too high. \n"
     ]
    },
    {
     "data": {
      "image/png": "[encoded data removed]",
      "text/plain": [
       "<matplotlib.figure.Figure at 0x22201ea5630>"
      ]
     },
     "metadata": {},
     "output_type": "display_data"
    },
    {
     "data": {
      "image/png": "[encoded data removed]",
      "text/plain": [
       "<matplotlib.figure.Figure at 0x2227f526080>"
      ]
     },
     "metadata": {},
     "output_type": "display_data"
    }
   ],
   "source": [
    "thermalization()"
   ]
  },
  {
   "cell_type": "code",
   "execution_count": null,
   "metadata": {
    "collapsed": false
   },
   "outputs": [],
   "source": []
  },
  {
   "cell_type": "code",
   "execution_count": null,
   "metadata": {
    "collapsed": false
   },
   "outputs": [],
   "source": [
    "time=np.arange(niter+1)\n",
    "print(time.size)\n",
    "print(avg_pos.size)\n",
    "\n",
    "plt.figure(1)\n",
    "plt.xlabel('Configuration')\n",
    "plt.ylabel('Average Position')\n",
    "plt.title('Position vs configuration number')\n",
    "plt.plot(time, avg_pos)\n",
    "plt.show()\n",
    "\n",
    "plt.figure(2)\n",
    "plt.xlabel('Configuration')\n",
    "plt.ylabel('Average distance squared')\n",
    "plt.title('Distance squared vs configuration number')\n",
    "plt.plot(time, avg_pos2)\n",
    "plt.show()\n",
    "\n",
    "plt.figure(3)\n",
    "plt.xlabel('Configuration')\n",
    "plt.ylabel('Energy')\n",
    "plt.title('Average energy')\n",
    "plt.plot(time, (mu**2)*avg_pos2)\n",
    "plt.show()"
   ]
  },
  {
   "cell_type": "code",
   "execution_count": null,
   "metadata": {
    "collapsed": false
   },
   "outputs": [],
   "source": []
  },
  {
   "cell_type": "code",
   "execution_count": null,
   "metadata": {
    "collapsed": false
   },
   "outputs": [],
   "source": []
  },
  {
   "cell_type": "code",
   "execution_count": null,
   "metadata": {
    "collapsed": false
   },
   "outputs": [],
   "source": []
  },
  {
   "cell_type": "code",
   "execution_count": null,
   "metadata": {
    "collapsed": true
   },
   "outputs": [],
   "source": []
  }
 ],
 "metadata": {
  "kernelspec": {
   "display_name": "Python 3",
   "language": "python",
   "name": "python3"
  },
  "language_info": {
   "codemirror_mode": {
    "name": "ipython",
    "version": 3
   },
   "file_extension": ".py",
   "mimetype": "text/x-python",
   "name": "python",
   "nbconvert_exporter": "python",
   "pygments_lexer": "ipython3",
   "version": "3.6.0"
  }
 },
 "nbformat": 4,
 "nbformat_minor": 2
}
