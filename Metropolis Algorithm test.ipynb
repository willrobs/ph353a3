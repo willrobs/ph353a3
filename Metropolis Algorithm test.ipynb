{
 "cells": [
  {
   "cell_type": "code",
   "execution_count": 75,
   "metadata": {
    "collapsed": false
   },
   "outputs": [],
   "source": [
    "import numpy as np\n",
    "import matplotlib.pyplot as plt\n",
    "import pandas\n",
    "from scipy.optimize import curve_fit"
   ]
  },
  {
   "cell_type": "code",
   "execution_count": 167,
   "metadata": {
    "collapsed": false
   },
   "outputs": [],
   "source": [
    "def daction(x1,x,xm1,xp):\n",
    "    dxn=xp-x\n",
    "    sxn=xp+x\n",
    "    sx1=x1+xm1\n",
    "    \n",
    "    delta_s=dxn*(sxn*(c1 + c2) -sx1*c1)\n",
    "    \n",
    "    return delta_s\n",
    "\n",
    "def exp_fun(x, a, b, c):\n",
    "    return  a*(np.exp(-b*x)) + c\n",
    "\n",
    "def metro(config,num_lat_points):\n",
    "    \n",
    "    state=config\n",
    "    points=num_lat_points\n",
    "     \n",
    "    for n in range(points):\n",
    "\n",
    "        x_t=(np.random.uniform((state[n]-step), (state[n]+step)))\n",
    "        if n==0:\n",
    "            delta=daction(state[n+1],state[n],state[points-1],x_t)\n",
    "\n",
    "            if np.exp(-delta)> (np.random.uniform(0,1)):\n",
    "                np.put(state,[n],[x_t])\n",
    "            else:\n",
    "                pass\n",
    "\n",
    "        elif n==(points-1):\n",
    "            delta=daction(state[0],state[n],state[n-1],x_t)\n",
    "\n",
    "            if np.exp(-delta)> (np.random.uniform(0,1)):\n",
    "                np.put(state,[n],[x_t])\n",
    "            else:\n",
    "                pass\n",
    "        else:\n",
    "            delta=daction(state[n+1],state[n],state[n-1],x_t)\n",
    "\n",
    "            if  np.exp(-delta) > (np.random.uniform(0,1)):\n",
    "                np.put(state,[n],[x_t])\n",
    "            else:\n",
    "                pass\n",
    "    return(state)\n",
    "    \n",
    "\n",
    "def thermalization(num_iter):\n",
    "    tniter=num_iter \n",
    "    num_accept=0\n",
    "    state=0*np.random.random_sample((points,))\n",
    "    avg_pos=0*np.random.random_sample((tniter+1,))\n",
    "    avg_pos2=0*np.random.random_sample((tniter+1,))\n",
    "\n",
    "    for h in state:\n",
    "            avg_pos[0]=avg_pos[0]+h\n",
    "            avg_pos2[0]=avg_pos2[0]+h**2\n",
    "\n",
    "    for m in range(tniter):\n",
    "\n",
    "        for n in range(points):\n",
    "\n",
    "            x_t=(np.random.uniform((state[n]-step), (state[n]+step)))\n",
    "            if n==0:\n",
    "                delta=daction(state[n+1],state[n],state[points-1],x_t)\n",
    "\n",
    "                if np.exp(-delta)> (np.random.uniform(0,1)):\n",
    "                    np.put(state,[n],[x_t])\n",
    "                    num_accept=num_accept+1\n",
    "                else:\n",
    "                    pass\n",
    "\n",
    "            elif n==(points-1):\n",
    "                delta=daction(state[0],state[n],state[n-1],x_t)\n",
    "\n",
    "                if np.exp(-delta)> (np.random.uniform(0,1)):\n",
    "                    np.put(state,[n],[x_t])\n",
    "                    num_accept=num_accept+1\n",
    "                else:\n",
    "                    pass\n",
    "            else:\n",
    "                delta=daction(state[n+1],state[n],state[n-1],x_t)\n",
    "\n",
    "                if  np.exp(-delta) > (np.random.uniform(0,1)):\n",
    "                    np.put(state,[n],[x_t])\n",
    "                    num_accept=num_accept+1\n",
    "                else:\n",
    "                    pass\n",
    "\n",
    "        for h in state:\n",
    "            avg_pos[m+1]=avg_pos[m+1]+h\n",
    "            avg_pos2[m+1]=avg_pos2[m+1]+h**2\n",
    "\n",
    "    avg_pos=avg_pos/points\n",
    "    avg_pos2=avg_pos2/points\n",
    "    print(\"Acceptance ratio :\", num_accept/(tniter*points), \"\\n The acceptance ratio needs to be around 0.5. \\n If it's too low try reducing 'step', and vv if it's too high. \")\n",
    "    \n",
    "    config=np.arange(tniter+1)\n",
    "\n",
    "    plt.figure(1)\n",
    "    plt.xlabel('Configuration')\n",
    "    plt.ylabel('Average distance squared')\n",
    "    plt.title('Distance squared vs configuration number')\n",
    "    plt.plot(config, avg_pos2)\n",
    "    plt.show()\n",
    "    \n",
    "    plt.figure(2)\n",
    "    plt.xlabel('Configuration')\n",
    "    plt.ylabel('Average distance squared')\n",
    "    plt.title('Distance squared vs configuration number. Tuned axis')\n",
    "    plt.plot(config, avg_pos2)\n",
    "    plt.axis([0,400,0,max(avg_pos2)]) ####May need to tune x-axis\n",
    "    plt.show()\n",
    "    \n",
    "    \n",
    "def data(spring_const,mass,lattice_spacing,num_config,num_lat_points):\n",
    "    mu=spring_const\n",
    "    m=mass\n",
    "    a=lattice_spacing\n",
    "    niter=num_config\n",
    "    points=num_lat_points\n",
    "    smu=str(mu)\n",
    "    sm=str(m)\n",
    "    sma=str(a)\n",
    "    sniter=str(niter)\n",
    "    spoints=str(points)\n",
    "    name=smu+sm+sma+sniter+spoints\n",
    "    \n",
    "    state=0*np.random.random_sample((points,)) #### Initial state\n",
    "    f=open('data'+name+'.txt' , 'w')\n",
    "    \n",
    "    for m in range(ttime): #### thermalizaing state\n",
    "\n",
    "        state=metro(state,100) #### config,num_lat_points    \n",
    "    for h in state:\n",
    "        f.write(str(h) + '\\n')\n",
    "    \n",
    "    for m in range(niter):\n",
    "\n",
    "        state=metro(state,100) #### config,num_lat_points\n",
    "        \n",
    "        for h in state:\n",
    "            f.write(str(h) + '\\n')\n",
    "        \n",
    "    f.close()\n",
    "\n",
    "def corr(spring_const,mass,lattice_spacing,num_config,num_lat_points):\n",
    "    mu=spring_const\n",
    "    m=mass\n",
    "    a=lattice_spacing\n",
    "    niter=num_config\n",
    "    points=num_lat_points\n",
    "    smu=str(mu)\n",
    "    sm=str(m)\n",
    "    sma=str(a)\n",
    "    sniter=str(niter)\n",
    "    spoints=str(points)\n",
    "    name=smu+sm+sma+sniter+spoints\n",
    "    \n",
    "    f=open('data'+name+'.txt' , 'r')\n",
    "    data=f.readlines()\n",
    "    f.close()\n",
    "    corr=[]\n",
    "    for n in range(corrt):\n",
    "        \n",
    "        sum1=0\n",
    "        sum2=0\n",
    "        for m in range(points):\n",
    "            sum1=sum1+(eval(data[m])*eval(data[m+((n+1)*points)]))\n",
    "        corr=np.append(corr,sum1/points)\n",
    "    \n",
    "    corr_time=np.arange(corrt)\n",
    "    corr=corr/(max(corr))\n",
    "    \n",
    "    popt, pcov = curve_fit(exp_fun, corr_time, corr)\n",
    "    \n",
    "    plt.figure(1)\n",
    "    plt.xlabel('Correlation time')\n",
    "    plt.ylabel('Correlation')\n",
    "    plt.title('Correlation graph')\n",
    "    plt.plot(corr_time, exp_fun(corr_time, *popt))\n",
    "    plt.plot(corr_time, corr)\n",
    "    plt.show()\n",
    "    \n",
    "    plt.figure(2)\n",
    "    plt.plot(corr_time, exp_fun(corr_time, *popt))\n",
    "    plt.plot(corr_time,corr,'.')\n",
    "    plt.axis([0,200,min(corr),max(corr)])\n",
    "    plt.show()\n",
    "            \n",
    "    return (popt, pcov, data)\n",
    "    \n",
    "def binning(spring_const,mass,lattice_spacing,num_config,num_lat_points,size_of_bin,raw_data):\n",
    "    mu=spring_const\n",
    "    m=mass\n",
    "    a=lattice_spacing\n",
    "    niter=num_config\n",
    "    points=num_lat_points\n",
    "    smu=str(mu)\n",
    "    sm=str(m)\n",
    "    sma=str(a)\n",
    "    sniter=str(niter)\n",
    "    spoints=str(points)\n",
    "    name=smu+sm+sma+sniter+spoints\n",
    "    \n",
    "    bin_size=size_of_bin\n",
    "    data=raw_data\n",
    "    num_bins=int(niter/bin_size)\n",
    "    \n",
    "    f=open('binned_data'+name+'.txt' , 'w')\n",
    "    \n",
    "    \n",
    "    for n in range(num_bins):\n",
    "        \n",
    "        sum1=0\n",
    "        for m in range(bin_size):\n",
    "            \n",
    "            sum2=0\n",
    "            for l in range(points):\n",
    "                \n",
    "                sum2=sum2+eval(data[l + (m+(n*bin_size))*points])\n",
    "            sum1=sum1+sum2/points\n",
    "            \n",
    "        f.write(str(sum1/bin_size) + '\\n')\n",
    "         \n",
    "    f.close()\n",
    "    \n",
    "    f=open('2binned_data'+name+'.txt' , 'w')\n",
    "    \n",
    "    for n in range(num_bins):\n",
    "        \n",
    "        sum1=0\n",
    "        for m in range(bin_size):\n",
    "            \n",
    "            sum2=0\n",
    "            for l in range(points):\n",
    "                \n",
    "                sum2=sum2+(eval(data[l + (m+(n*bin_size))*points]))**2\n",
    "            sum1=sum1+sum2/points\n",
    "            \n",
    "        f.write(str(sum1/bin_size) + '\\n')\n",
    "         \n",
    "    f.close()\n",
    "\n",
    "    \n",
    "    \n",
    "    \n",
    "def calc(spring_const,mass,lattice_spacing,num_config,num_lat_points):\n",
    "    mu=spring_const\n",
    "    m=mass\n",
    "    a=lattice_spacing\n",
    "    niter=num_config\n",
    "    points=num_lat_points\n",
    "    smu=str(mu)\n",
    "    sm=str(m)\n",
    "    sma=str(a)\n",
    "    sniter=str(niter)\n",
    "    spoints=str(points)\n",
    "    name=smu+sm+sma+sniter+spoints\n",
    "    \n",
    "    f=open('2binned_data'+name+'.txt' , 'r')\n",
    "    data=f.readlines()\n",
    "    \n",
    "    sum1=0\n",
    "    for n in data:\n",
    "        sum1=sum1+(eval(n))**2\n",
    "    energy=(mu**2)*(sum1/len(data))\n",
    "    print(energy)\n",
    "    \n",
    "    "
   ]
  },
  {
   "cell_type": "markdown",
   "metadata": {},
   "source": [
    "# Parameters"
   ]
  },
  {
   "cell_type": "code",
   "execution_count": 165,
   "metadata": {
    "collapsed": true
   },
   "outputs": [],
   "source": [
    "mu=1.41 #### spring constant\n",
    "m=0.5 #### mass\n",
    "a=0.1 #### lattice spacing\n",
    "\n",
    "#niter=int(10/a)\n",
    "tniter=400 #### Number of iterations for thermalization\n",
    "step=1 #### metropolis step\n",
    "points=10 ####Number of lattice points\n",
    "\n",
    "c1=m/a\n",
    "c2=(a*(mu**2))/2\n",
    "\n",
    "ttime=250 #### thermalization time\n",
    "corrt = 400 #### correlation time"
   ]
  },
  {
   "cell_type": "code",
   "execution_count": 144,
   "metadata": {
    "collapsed": false
   },
   "outputs": [],
   "source": [
    "data(1.41,0.5,0.1,3000,100) #### spring_const,mass,lattice_spacing,num_config,num_lat_points"
   ]
  },
  {
   "cell_type": "code",
   "execution_count": 145,
   "metadata": {
    "collapsed": false
   },
   "outputs": [
    {
     "data": {
      "image/png": "[encoded data removed]",
      "text/plain": [
       "<matplotlib.figure.Figure at 0x1106a1a86a0>"
      ]
     },
     "metadata": {},
     "output_type": "display_data"
    },
    {
     "data": {
      "image/png": "[encoded data removed]",
      "text/plain": [
       "<matplotlib.figure.Figure at 0x1106c5d2668>"
      ]
     },
     "metadata": {},
     "output_type": "display_data"
    },
    {
     "name": "stdout",
     "output_type": "stream",
     "text": [
      "36\n"
     ]
    }
   ],
   "source": [
    "results=corr(1.41,0.5,0.1,3000,100) #### spring_const,mass,lattice_spacing,num_config,num_lat_points\n",
    "bin_size=int(1/results[0][1] +1)\n",
    "print(bin_size)\n"
   ]
  },
  {
   "cell_type": "code",
   "execution_count": 166,
   "metadata": {
    "collapsed": false
   },
   "outputs": [],
   "source": [
    "binning(1.41,0.5,0.1,3000,100,bin_size,results[2]) #### spring_const,mass,lattice_spacing,num_config,num_lat_points,size_of_bin,raw_data\n",
    "\n",
    "\n"
   ]
  },
  {
   "cell_type": "code",
   "execution_count": 168,
   "metadata": {
    "collapsed": false
   },
   "outputs": [
    {
     "name": "stdout",
     "output_type": "stream",
     "text": [
      "0.4741850456664306\n"
     ]
    }
   ],
   "source": [
    "calc(1.41,0.5,0.1,3000,100) ####spring_const,mass,lattice_spacing,num_config,num_lat_points"
   ]
  },
  {
   "cell_type": "code",
   "execution_count": 163,
   "metadata": {
    "collapsed": false
   },
   "outputs": [
    {
     "name": "stdout",
     "output_type": "stream",
     "text": [
      "Acceptance ratio : 0.47325 \n",
      " The acceptance ratio needs to be around 0.5. \n",
      " If it's too low try reducing 'step', and vv if it's too high. \n"
     ]
    },
    {
     "data": {
      "image/png": "[encoded data removed]",
      "text/plain": [
       "<matplotlib.figure.Figure at 0x1106acd1be0>"
      ]
     },
     "metadata": {},
     "output_type": "display_data"
    },
    {
     "data": {
      "image/png": "[encoded data removed]",
      "text/plain": [
       "<matplotlib.figure.Figure at 0x1106b2cf630>"
      ]
     },
     "metadata": {},
     "output_type": "display_data"
    }
   ],
   "source": [
    "thermalization(tniter)"
   ]
  },
  {
   "cell_type": "code",
   "execution_count": 121,
   "metadata": {
    "collapsed": false
   },
   "outputs": [
    {
     "name": "stdout",
     "output_type": "stream",
     "text": [
      "29.4921767234\n",
      "30\n"
     ]
    }
   ],
   "source": [
    "print(1/results[0][1])\n",
    "bin_size=int(1/results[0][1] +1)\n",
    "print(bin_size)"
   ]
  },
  {
   "cell_type": "code",
   "execution_count": 9,
   "metadata": {
    "collapsed": false
   },
   "outputs": [
    {
     "name": "stdout",
     "output_type": "stream",
     "text": [
      "[ 0.  0.  0.  0.  0.  0.  0.  0.  0.  0.]\n",
      "0.0\n",
      "0.0\n",
      "0.393443280001\n",
      "-0.0691629469475\n",
      "0.0\n",
      "0.0\n",
      "0.0532327505351\n",
      "0.0\n",
      "0.143962724904\n",
      "0.0\n",
      "[ 0.          0.          0.39344328 -0.06916295  0.          0.\n",
      "  0.05323275  0.          0.14396272  0.        ]\n"
     ]
    }
   ],
   "source": [
    "state=0*np.random.random_sample((points,))\n",
    "print(state)\n",
    "state=metro(state)\n",
    "for h in state:\n",
    "    print(h)\n",
    "print(state)"
   ]
  },
  {
   "cell_type": "code",
   "execution_count": 44,
   "metadata": {
    "collapsed": false
   },
   "outputs": [
    {
     "name": "stdout",
     "output_type": "stream",
     "text": [
      "-0.18809428788\n",
      "-0.489623135546\n",
      "-0.14928350657\n",
      "0.136586587681\n",
      "-0.140194725407\n",
      "0.0463533281049\n",
      "-0.12567815604\n",
      "0.108358249192\n",
      "-0.197488438007\n",
      "-0.0109625925767\n",
      "-0.18809428788\n",
      "-0.489623135546\n",
      "-0.00893980171868\n",
      "0.52964657475\n",
      "0.350718057381\n",
      "-0.208811581686\n",
      "0.273849160855\n",
      "-0.108958820873\n",
      "-0.197488438007\n",
      "-0.193704244674\n",
      "0.407308741137\n",
      "0.203246666254\n",
      "-0.0260584436132\n",
      "0.0191366941952\n",
      "0.348161726549\n",
      "0.58782976642\n",
      "0.273849160855\n",
      "-0.108958820873\n",
      "0.414191033127\n",
      "-0.193704244674\n",
      "0.120930159193\n",
      "0.203246666254\n",
      "0.00814835155247\n",
      "-0.0269805515768\n",
      "0.348161726549\n",
      "0.58782976642\n",
      "-0.00489113154122\n",
      "0.613667758573\n",
      "0.112929184502\n",
      "-0.193704244674\n",
      "0.120930159193\n",
      "0.203246666254\n",
      "0.00814835155247\n",
      "-0.0269805515768\n",
      "-0.146835284171\n",
      "0.546757676177\n",
      "-0.318760267921\n",
      "0.31100416656\n",
      "-0.227588066809\n",
      "0.457248556445\n",
      "-0.0491506497685\n",
      "0.0237232315355\n",
      "0.00814835155247\n",
      "-0.0269805515768\n",
      "-0.146835284171\n",
      "0.546757676177\n",
      "-0.318760267921\n",
      "0.31100416656\n",
      "0.242201657175\n",
      "0.457248556445\n",
      "0.403058079227\n",
      "0.0237232315355\n",
      "0.00814835155247\n",
      "-0.422133220113\n",
      "-0.146835284171\n",
      "0.359770595411\n",
      "0.471317938878\n",
      "0.31100416656\n",
      "0.242201657175\n",
      "0.457248556445\n",
      "-0.360102034461\n",
      "0.0237232315355\n",
      "-0.112922362083\n",
      "-0.422133220113\n",
      "-0.146835284171\n",
      "0.20642589282\n",
      "0.471317938878\n",
      "0.562610283406\n",
      "0.242201657175\n",
      "-0.301544244576\n",
      "-0.360102034461\n",
      "0.0237232315355\n",
      "-0.112922362083\n",
      "-0.0359298181268\n",
      "-0.146835284171\n",
      "0.110386609126\n",
      "0.395841789831\n",
      "0.0713621146736\n",
      "0.242201657175\n",
      "-0.301544244576\n",
      "-0.360102034461\n",
      "0.0237232315355\n",
      "-0.112922362083\n",
      "-0.0359298181268\n",
      "-0.146835284171\n",
      "-0.0984120485672\n",
      "0.224815156662\n",
      "0.194306448156\n",
      "0.242201657175\n",
      "-0.301544244576\n",
      "-0.729551512297\n",
      "-0.782587349605\n",
      "-1.0091474734\n",
      "-0.201665005389\n",
      "-0.146835284171\n",
      "-0.0984120485672\n",
      "-0.193775575679\n",
      "-0.0003003920911\n",
      "-0.753027781397\n",
      "-0.301544244576\n"
     ]
    }
   ],
   "source": [
    "for m in range(5): #### thermalizaing state\n",
    "\n",
    "    state=metro(state)\n",
    "\n",
    "for h in state:\n",
    "    print(h)\n",
    "\n",
    "for m in range(10):\n",
    "\n",
    "    state=metro(state)\n",
    "\n",
    "    for h in state:\n",
    "\n",
    "        print(h)"
   ]
  },
  {
   "cell_type": "code",
   "execution_count": 51,
   "metadata": {
    "collapsed": false
   },
   "outputs": [
    {
     "name": "stdout",
     "output_type": "stream",
     "text": [
      "[ 1.6694313   1.49849148  1.08000755  1.19063849  0.20098927  0.67366841\n",
      "  1.13368161  1.1548348   2.03874579  2.26340544]\n"
     ]
    }
   ],
   "source": [
    "f=open('test.txt' , 'w')\n",
    "    \n",
    "for m in range(ttime): #### thermalizaing state\n",
    "\n",
    "    state=metro(state)\n",
    "print(state)\n",
    "\n",
    "for h in state:\n",
    "    f.write(str(h) + '\\n')\n",
    "\n",
    "for m in range(10):\n",
    "\n",
    "    state=metro(state)\n",
    "\n",
    "    for h in state:\n",
    "        f.write(str(h) + '\\n')\n",
    "\n",
    "f.close()"
   ]
  },
  {
   "cell_type": "code",
   "execution_count": 10,
   "metadata": {
    "collapsed": false
   },
   "outputs": [
    {
     "data": {
      "text/plain": [
       "array([ 0.19588397,  0.94379448,  0.39344328, -0.06916295,  0.        ,\n",
       "        0.        ,  0.05323275,  0.58459011,  0.14396272,  0.        ])"
      ]
     },
     "execution_count": 10,
     "metadata": {},
     "output_type": "execute_result"
    }
   ],
   "source": [
    "metro(state)"
   ]
  },
  {
   "cell_type": "code",
   "execution_count": null,
   "metadata": {
    "collapsed": true
   },
   "outputs": [],
   "source": []
  }
 ],
 "metadata": {
  "kernelspec": {
   "display_name": "Python 3",
   "language": "python",
   "name": "python3"
  },
  "language_info": {
   "codemirror_mode": {
    "name": "ipython",
    "version": 3
   },
   "file_extension": ".py",
   "mimetype": "text/x-python",
   "name": "python",
   "nbconvert_exporter": "python",
   "pygments_lexer": "ipython3",
   "version": "3.6.0"
  }
 },
 "nbformat": 4,
 "nbformat_minor": 2
}
