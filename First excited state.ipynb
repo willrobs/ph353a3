{
 "cells": [
  {
   "cell_type": "code",
   "execution_count": 7,
   "metadata": {
    "collapsed": true
   },
   "outputs": [],
   "source": [
    "import numpy as np\n",
    "import matplotlib.pyplot as plt\n",
    "import pandas\n",
    "from scipy.optimize import curve_fit\n",
    "import time"
   ]
  },
  {
   "cell_type": "code",
   "execution_count": 14,
   "metadata": {
    "collapsed": false
   },
   "outputs": [
    {
     "name": "stdout",
     "output_type": "stream",
     "text": [
      "1\n"
     ]
    }
   ],
   "source": [
    "mu=1 #### spring constant\n",
    "print(mu)\n",
    "m=1 #### mass\n",
    "a=0.5 #### lattice spacing\n",
    "num_iterations=10000\n",
    "lat_points=int(50/a)\n",
    "d_volume = 0.1 #### infinitesimal volume for probability density\n",
    "\n",
    "#niter=int(10/a)\n",
    "tniter=2000 #### Number of iterations used in running thermalization function\n",
    "step=0.6 #### metropolis step\n",
    "\n",
    "c1=m/a\n",
    "c2=(a*(mu**2))/2\n",
    "\n",
    "ttime=250 #### thermalization time to be used in run\n",
    "corrt = 400 #### correlation time\n",
    "\n",
    "niter=num_iterations\n",
    "points=lat_points\n",
    "smu=str(mu)\n",
    "sm=str(m)\n",
    "sma=str(a)\n",
    "sniter=str(niter)\n",
    "spoints=str(points)\n",
    "name=smu+sm+sma+sniter+spoints\n",
    "\n",
    "f=open('data'+name+'.txt' , 'r')\n",
    "data=f.readlines()\n",
    "f.close()\n",
    "\n",
    "\n",
    "\n",
    "##############\n",
    "bin_size=13"
   ]
  },
  {
   "cell_type": "code",
   "execution_count": 15,
   "metadata": {
    "collapsed": false
   },
   "outputs": [],
   "source": [
    "#niter=num_configurations\n",
    "#points=num_lat_points\n",
    "#data=raw_data\n",
    "#a=lattice_spacing\n",
    "num_tl=int(points/bin_size)\n",
    "num=[]\n",
    "dnm=[]\n",
    "for m in range(num_tl):\n",
    "\n",
    "    sum1=0\n",
    "    sum2=0\n",
    "    \n",
    "    for l in range(bin_size):\n",
    "        \n",
    "        for n in range(niter):\n",
    "\n",
    "            x0=eval(data[n*points])\n",
    "            xnm1=eval(data[n*points + l + m*bin_size])\n",
    "            xn=eval(data[n*points + l+1 + m*bin_size])\n",
    "\n",
    "            sum1=sum1+(x0*xn)\n",
    "            sum2=sum2+(x0*xnm1)\n",
    "\n",
    "    num=np.append(num, sum1/(niter*bin_size))\n",
    "    dnm=np.append(dnm, sum2/(bin_size*niter))\n",
    "\n",
    "effe=-(1/a)*np.log(num/dnm)"
   ]
  },
  {
   "cell_type": "code",
   "execution_count": 16,
   "metadata": {
    "collapsed": false
   },
   "outputs": [
    {
     "data": {
      "image/png": "[encoded data removed]",
      "text/plain": [
       "<matplotlib.figure.Figure at 0x1a89fbb0ef0>"
      ]
     },
     "metadata": {},
     "output_type": "display_data"
    }
   ],
   "source": [
    "lat_time=np.arange(0,len(effe),1)\n",
    "\n",
    "plt.figure(3)\n",
    "#plt.xlabel('Position')\n",
    "#plt.ylabel('Probability Density')\n",
    "#plt.title('Normalized probability graph')\n",
    "plt.plot(lat_time, effe)\n",
    "plt.show()"
   ]
  },
  {
   "cell_type": "code",
   "execution_count": null,
   "metadata": {
    "collapsed": true
   },
   "outputs": [],
   "source": []
  }
 ],
 "metadata": {
  "kernelspec": {
   "display_name": "Python 3",
   "language": "python",
   "name": "python3"
  },
  "language_info": {
   "codemirror_mode": {
    "name": "ipython",
    "version": 3
   },
   "file_extension": ".py",
   "mimetype": "text/x-python",
   "name": "python",
   "nbconvert_exporter": "python",
   "pygments_lexer": "ipython3",
   "version": "3.6.0"
  }
 },
 "nbformat": 4,
 "nbformat_minor": 2
}
